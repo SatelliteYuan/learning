{
 "cells": [
  {
   "cell_type": "markdown",
   "metadata": {},
   "source": []
  },
  {
   "cell_type": "code",
   "execution_count": null,
   "metadata": {},
   "outputs": [],
   "source": [
    "import cv2\n",
    "import matplotlib.pyplot as plt\n",
    "\n",
    "img = cv2.imread(\"./1.jpg\")\n",
    "plt.imshow(img)\n",
    "plt.show()\n",
    "\n",
    "\n"
   ]
  },
  {
   "cell_type": "code",
   "execution_count": null,
   "metadata": {},
   "outputs": [],
   "source": [
    "rgb = cv2.cvtColor(img, cv2.COLOR_BGR2RGB)\n",
    "r, g, b = cv2.split(rgb)\n",
    "plt.subplot(1, 4, 1)\n",
    "plt.imshow(r, cmap='gray')\n",
    "plt.subplot(1, 4, 2)\n",
    "plt.imshow(g, cmap='gray')\n",
    "plt.subplot(1, 4, 3)\n",
    "plt.imshow(b, cmap='gray')\n",
    "plt.subplot(1, 4, 4)\n",
    "plt.imshow(rgb)\n",
    "plt.show()"
   ]
  },
  {
   "cell_type": "code",
   "execution_count": null,
   "metadata": {},
   "outputs": [],
   "source": [
    "import numpy as np\n",
    "\n",
    "hsv = cv2.cvtColor(img, cv2.COLOR_BGR2HSV)\n",
    "h, s, v = cv2.split(hsv)\n",
    "plt.subplot(1, 4, 1)\n",
    "plt.imshow(h, cmap='gray')\n",
    "plt.subplot(1, 4, 2)\n",
    "plt.imshow(s, cmap='gray')\n",
    "plt.subplot(1, 4, 3)\n",
    "plt.imshow(v, cmap='gray')\n",
    "plt.subplot(1, 4, 4)\n",
    "plt.imshow(rgb)\n",
    "plt.show()"
   ]
  },
  {
   "cell_type": "code",
   "execution_count": null,
   "metadata": {},
   "outputs": [],
   "source": [
    "from mpl_toolkits.mplot3d import Axes3D\n",
    "from matplotlib import cm\n",
    "from matplotlib import colors\n",
    "\n",
    "r, g, b = cv2.split(rgb)\n",
    "fig = plt.figure()\n",
    "axis = fig.add_subplot(1, 1, 1, projection=\"3d\")\n",
    "\n",
    "pixel_colors = rgb.reshape((np.shape(rgb)[0]*np.shape(rgb)[1], 3))\n",
    "norm = colors.Normalize(vmin=-1.,vmax=1.)\n",
    "norm.autoscale(pixel_colors)\n",
    "pixel_colors = norm(pixel_colors).tolist()\n",
    "\n",
    "axis.scatter(r.flatten(), g.flatten(), b.flatten(), facecolors=pixel_colors, marker=\".\")\n",
    "axis.set_xlabel(\"Red\")\n",
    "axis.set_ylabel(\"Green\")\n",
    "axis.set_zlabel(\"Blue\")\n",
    "plt.show()"
   ]
  },
  {
   "cell_type": "code",
   "execution_count": null,
   "metadata": {},
   "outputs": [],
   "source": [
    "h, s, v = cv2.split(hsv)\n",
    "fig = plt.figure()\n",
    "axis = fig.add_subplot(1, 1, 1, projection=\"3d\")\n",
    "\n",
    "pixel_colors = hsv.reshape((np.shape(hsv)[0]*np.shape(hsv)[1], 3))\n",
    "norm = colors.Normalize(vmin=-1.,vmax=1.)\n",
    "norm.autoscale(pixel_colors)\n",
    "pixel_colors = norm(pixel_colors).tolist()\n",
    "\n",
    "axis.scatter(h.flatten(), s.flatten(), v.flatten(), facecolors=pixel_colors, marker=\".\")\n",
    "axis.set_xlabel(\"Hue\")\n",
    "axis.set_ylabel(\"Saturation\")\n",
    "axis.set_zlabel(\"Value\")\n",
    "plt.show()"
   ]
  },
  {
   "cell_type": "code",
   "execution_count": null,
   "metadata": {},
   "outputs": [],
   "source": [
    "from matplotlib.colors import hsv_to_rgb\n",
    "\n",
    "light_red = (0, 200, 0)\n",
    "dark_red = (180, 255, 80)\n",
    "lo_square = np.full((10, 10, 3), light_red, dtype=np.uint8) / 255.0\n",
    "do_square = np.full((10, 10, 3), dark_red, dtype=np.uint8) / 255.0\n",
    "plt.subplot(1, 2, 1)\n",
    "plt.imshow(hsv_to_rgb(do_square))\n",
    "plt.subplot(1, 2, 2)\n",
    "plt.imshow(hsv_to_rgb(lo_square))\n",
    "plt.suptitle(\"inrange\", )\n",
    "plt.show()"
   ]
  },
  {
   "cell_type": "code",
   "execution_count": null,
   "metadata": {},
   "outputs": [],
   "source": [
    "mask = cv2.inRange(hsv, light_red, dark_red)\n",
    "result = cv2.bitwise_and(rgb, rgb, mask=mask)\n",
    "plt.subplot(1, 3, 1).title.set_text(\"src\")\n",
    "plt.imshow(rgb)\n",
    "plt.subplot(1, 3, 2).title.set_text(\"mask\")\n",
    "plt.imshow(mask, cmap='gray')\n",
    "plt.subplot(1, 3, 3).title.set_text(\"crop\")\n",
    "plt.imshow(result)\n",
    "plt.show()"
   ]
  },
  {
   "cell_type": "code",
   "execution_count": null,
   "metadata": {},
   "outputs": [],
   "source": []
  }
 ],
 "metadata": {
  "interpreter": {
   "hash": "b9c9d6b7e079603ff2ffd3f710de6e6ee847a36b1c5782202c703f7fb39b9863"
  },
  "kernelspec": {
   "display_name": "Python 3.8.8 64-bit ('base': conda)",
   "name": "python3"
  },
  "language_info": {
   "codemirror_mode": {
    "name": "ipython",
    "version": 3
   },
   "file_extension": ".py",
   "mimetype": "text/x-python",
   "name": "python",
   "nbconvert_exporter": "python",
   "pygments_lexer": "ipython3",
   "version": "3.8.8"
  },
  "orig_nbformat": 4
 },
 "nbformat": 4,
 "nbformat_minor": 2
}
